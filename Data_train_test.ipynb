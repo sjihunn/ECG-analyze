{
 "cells": [
  {
   "cell_type": "markdown",
   "metadata": {},
   "source": [
    "앞서 데이터 전처리로 모은 데이터 셋을 한곳에 합쳐서 total_dataset.csv로 만들어준뒤, 학습을 시킵니다."
   ]
  },
  {
   "cell_type": "code",
   "execution_count": 1,
   "metadata": {},
   "outputs": [
    {
     "name": "stderr",
     "output_type": "stream",
     "text": [
      "Using TensorFlow backend.\n"
     ]
    }
   ],
   "source": [
    "from keras.datasets import mnist\n",
    "from keras.utils import np_utils\n",
    "from keras.layers import Input, Dense, Reshape, Flatten, Dropout, MaxPooling1D\n",
    "from keras.layers import BatchNormalization, Activation, LeakyReLU, UpSampling1D, Conv1D\n",
    "from keras.models import Sequential, Model\n",
    "from keras.models import load_model\n",
    "from keras.callbacks import ModelCheckpoint,EarlyStopping\n",
    "from sklearn.model_selection import train_test_split\n",
    "from keras.utils import to_categorical\n",
    "from sklearn.preprocessing import LabelEncoder\n",
    "\n",
    "import pandas as pd\n",
    "import matplotlib.pyplot as plt\n",
    "import numpy\n",
    "import os\n",
    "import tensorflow as tf"
   ]
  },
  {
   "cell_type": "code",
   "execution_count": 2,
   "metadata": {},
   "outputs": [],
   "source": [
    "seed = 3\n",
    "numpy.random.seed(seed)\n",
    "tf.random.set_seed(3)\n",
    "df = pd.read_csv('./total_dataset.csv', header = None)\n",
    "dataset = df.values\n",
    "X= dataset[:,0:76]\n",
    "Y_obj = dataset[:,76]\n",
    "\n",
    "e=LabelEncoder()\n",
    "e.fit(Y_obj)\n",
    "Y=e.transform(Y_obj)"
   ]
  },
  {
   "cell_type": "code",
   "execution_count": 3,
   "metadata": {},
   "outputs": [],
   "source": [
    "X_train, X_test, Y_train, Y_test = train_test_split(X, Y, test_size=0.2, random_state=42)\n",
    "Y_train = tf.keras.utils.to_categorical(Y_train, num_classes=2) \n",
    "Y_test = tf.keras.utils.to_categorical(Y_test, num_classes=2)"
   ]
  },
  {
   "cell_type": "code",
   "execution_count": 4,
   "metadata": {},
   "outputs": [
    {
     "name": "stdout",
     "output_type": "stream",
     "text": [
      "Model: \"sequential_1\"\n",
      "_________________________________________________________________\n",
      "Layer (type)                 Output Shape              Param #   \n",
      "=================================================================\n",
      "dense_1 (Dense)              (None, 48)                3696      \n",
      "_________________________________________________________________\n",
      "dense_2 (Dense)              (None, 24)                1176      \n",
      "_________________________________________________________________\n",
      "dense_3 (Dense)              (None, 12)                300       \n",
      "_________________________________________________________________\n",
      "dense_4 (Dense)              (None, 2)                 26        \n",
      "=================================================================\n",
      "Total params: 5,198\n",
      "Trainable params: 5,198\n",
      "Non-trainable params: 0\n",
      "_________________________________________________________________\n"
     ]
    }
   ],
   "source": [
    "model = Sequential()\n",
    "model.add(Dense(48, input_shape=(76,), activation='relu'))\n",
    "model.add(Dense(24, activation='relu'))\n",
    "model.add(Dense(12, activation='relu'))\n",
    "model.add(Dense(2, activation='sigmoid'))\n",
    "model.summary()"
   ]
  },
  {
   "cell_type": "code",
   "execution_count": 5,
   "metadata": {},
   "outputs": [],
   "source": [
    "model.compile(loss='binary_crossentropy',\n",
    "              optimizer=tf.keras.optimizers.Adam(lr=0.01),\n",
    "              metrics=['accuracy'])\n"
   ]
  },
  {
   "cell_type": "code",
   "execution_count": 6,
   "metadata": {},
   "outputs": [
    {
     "name": "stdout",
     "output_type": "stream",
     "text": [
      "Train on 5973 samples, validate on 1991 samples\n",
      "Epoch 1/100\n",
      "5973/5973 [==============================] - 1s 132us/step - loss: 0.2523 - accuracy: 0.8865 - val_loss: 0.0627 - val_accuracy: 0.9782\n",
      "Epoch 2/100\n",
      "5973/5973 [==============================] - 0s 79us/step - loss: 0.0649 - accuracy: 0.9783 - val_loss: 0.0304 - val_accuracy: 0.9897\n",
      "Epoch 3/100\n",
      "5973/5973 [==============================] - 0s 76us/step - loss: 0.0450 - accuracy: 0.9879 - val_loss: 0.0438 - val_accuracy: 0.9824\n",
      "Epoch 4/100\n",
      "5973/5973 [==============================] - 0s 77us/step - loss: 0.0396 - accuracy: 0.9877 - val_loss: 0.0257 - val_accuracy: 0.9917\n",
      "Epoch 5/100\n",
      "5973/5973 [==============================] - 0s 75us/step - loss: 0.0315 - accuracy: 0.9886 - val_loss: 0.0274 - val_accuracy: 0.9925\n",
      "Epoch 6/100\n",
      "5973/5973 [==============================] - 0s 75us/step - loss: 0.0273 - accuracy: 0.9916 - val_loss: 0.0331 - val_accuracy: 0.9882\n",
      "Epoch 7/100\n",
      "5973/5973 [==============================] - 0s 75us/step - loss: 0.0355 - accuracy: 0.9883 - val_loss: 0.0206 - val_accuracy: 0.9925\n",
      "Epoch 8/100\n",
      "5973/5973 [==============================] - 0s 72us/step - loss: 0.0234 - accuracy: 0.9921 - val_loss: 0.0170 - val_accuracy: 0.9925\n",
      "Epoch 9/100\n",
      "5973/5973 [==============================] - 0s 80us/step - loss: 0.0216 - accuracy: 0.9922 - val_loss: 0.0320 - val_accuracy: 0.9842\n",
      "Epoch 10/100\n",
      "5973/5973 [==============================] - 1s 85us/step - loss: 0.0209 - accuracy: 0.9932 - val_loss: 0.0608 - val_accuracy: 0.9809\n",
      "Epoch 11/100\n",
      "5973/5973 [==============================] - 0s 77us/step - loss: 0.0222 - accuracy: 0.9920 - val_loss: 0.0199 - val_accuracy: 0.9930\n",
      "Epoch 12/100\n",
      "5973/5973 [==============================] - 0s 75us/step - loss: 0.0232 - accuracy: 0.9925 - val_loss: 0.0308 - val_accuracy: 0.9869\n",
      "Epoch 13/100\n",
      "5973/5973 [==============================] - 0s 75us/step - loss: 0.0167 - accuracy: 0.9948 - val_loss: 0.0217 - val_accuracy: 0.9915\n"
     ]
    }
   ],
   "source": [
    "history = model.fit(X_train, Y_train, epochs=100, batch_size=32, validation_split=0.25, callbacks=[tf.keras.callbacks.EarlyStopping(patience=5, monitor='val_loss')])"
   ]
  },
  {
   "cell_type": "code",
   "execution_count": 7,
   "metadata": {},
   "outputs": [
    {
     "name": "stdout",
     "output_type": "stream",
     "text": [
      "1991/1991 [==============================] - 0s 51us/step\n"
     ]
    },
    {
     "data": {
      "text/plain": [
       "[0.020947533010845207, 0.9934706091880798]"
      ]
     },
     "execution_count": 7,
     "metadata": {},
     "output_type": "execute_result"
    }
   ],
   "source": [
    "model.evaluate(X_test,Y_test)"
   ]
  },
  {
   "cell_type": "code",
   "execution_count": 8,
   "metadata": {},
   "outputs": [
    {
     "data": {
      "image/png": "[encoded data removed]",
      "text/plain": [
       "<Figure size 864x288 with 2 Axes>"
      ]
     },
     "metadata": {
      "needs_background": "light"
     },
     "output_type": "display_data"
    }
   ],
   "source": [
    "plt.figure(figsize=(12,4))\n",
    "\n",
    "plt.subplot(1, 2, 1)\n",
    "plt.plot(history.history['loss'], 'b-', label='loss')\n",
    "plt.plot(history.history['val_loss'], 'r--', label='val_loss')\n",
    "plt.xlabel('Epoch')\n",
    "plt.legend()\n",
    "\n",
    "plt.subplot(1, 2, 2)\n",
    "plt.plot(history.history['accuracy'], 'g-', label='accuracy')\n",
    "plt.plot(history.history['val_accuracy'], 'k--', label='val_accuracy')\n",
    "plt.xlabel('Epoch')\n",
    "plt.ylim(0.7, 1)\n",
    "plt.legend()\n",
    "\n",
    "plt.show()"
   ]
  }
 ],
 "metadata": {
  "kernelspec": {
   "display_name": "Python 3",
   "language": "python",
   "name": "python3"
  },
  "language_info": {
   "codemirror_mode": {
    "name": "ipython",
    "version": 3
   },
   "file_extension": ".py",
   "mimetype": "text/x-python",
   "name": "python",
   "nbconvert_exporter": "python",
   "pygments_lexer": "ipython3",
   "version": "3.7.9"
  }
 },
 "nbformat": 4,
 "nbformat_minor": 4
}
